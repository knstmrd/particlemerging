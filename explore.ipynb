{
 "cells": [
  {
   "cell_type": "code",
   "execution_count": 1,
   "metadata": {},
   "outputs": [],
   "source": [
    "using Statistics\n",
    "using Profile"
   ]
  },
  {
   "cell_type": "code",
   "execution_count": 2,
   "metadata": {},
   "outputs": [],
   "source": [
    "@enum BinInit begin\n",
    "    LightSpeed  # set limits of initial bin +- 3.1e8 m/s\n",
    "    MinMaxVel  # set limits of initial bin to min/max velocities of particles in question\n",
    "end"
   ]
  },
  {
   "cell_type": "code",
   "execution_count": 3,
   "metadata": {},
   "outputs": [],
   "source": [
    "@enum BinSplit begin\n",
    "    MiddleSplit  # split bin among middle\n",
    "    MeanVelSplit  # split bin along mean velocity in bin\n",
    "end"
   ]
  },
  {
   "cell_type": "code",
   "execution_count": 4,
   "metadata": {},
   "outputs": [],
   "source": [
    "@enum BinRefinement begin\n",
    "    Greedy  # refine the first bin that is suitable\n",
    "    Heaviest  # refine the heaviest bin\n",
    "    BiggestAvg  # refine bin with largest average weight\n",
    "end"
   ]
  },
  {
   "cell_type": "code",
   "execution_count": 5,
   "metadata": {},
   "outputs": [
    {
     "data": {
      "text/plain": [
       "Constants(1.38064852e-23)"
      ]
     },
     "execution_count": 5,
     "metadata": {},
     "output_type": "execute_result"
    }
   ],
   "source": [
    "struct Constants\n",
    "    k::Float64\n",
    "end\n",
    "\n",
    "constants = Constants(1.38064852e-23)"
   ]
  },
  {
   "cell_type": "code",
   "execution_count": 6,
   "metadata": {},
   "outputs": [],
   "source": [
    "mutable struct Particle\n",
    "    w::Float64\n",
    "    v::Array{Float64,1}\n",
    "    octant::Int\n",
    "end"
   ]
  },
  {
   "cell_type": "code",
   "execution_count": 7,
   "metadata": {},
   "outputs": [],
   "source": [
    "mutable struct Bin\n",
    "    w::Float64  # total weight in bin\n",
    "    nparticles::Int  # total number of particles in bin\n",
    "    v::Array{Float64,1}  # velocity of bin\n",
    "    c::Array{Float64,1}  # second moment in bin\n",
    "    \n",
    "    v_lo::Array{Float64,1}  # min velocity of bin\n",
    "    v_hi::Array{Float64,1}  # max velocity of bin\n",
    "    v_split::Array{Float64,1}  # velocities along which octant splitting is performed\n",
    "    \n",
    "    index_start::Int\n",
    "    index_end::Int # indices of particle array - start, end\n",
    "    \n",
    "    level::Int\n",
    "end"
   ]
  },
  {
   "cell_type": "code",
   "execution_count": 8,
   "metadata": {},
   "outputs": [
    {
     "data": {
      "text/plain": [
       "maxwellian (generic function with 1 method)"
      ]
     },
     "execution_count": 8,
     "metadata": {},
     "output_type": "execute_result"
    }
   ],
   "source": [
    "function maxwellian(T, mass)\n",
    "    return sqrt(constants.k * T / mass) * randn((3,))\n",
    "end"
   ]
  },
  {
   "cell_type": "code",
   "execution_count": 9,
   "metadata": {},
   "outputs": [
    {
     "data": {
      "text/plain": [
       "compute_octant! (generic function with 1 method)"
      ]
     },
     "execution_count": 9,
     "metadata": {},
     "output_type": "execute_result"
    }
   ],
   "source": [
    "function compute_octant!(particle, v_split)\n",
    "    particle.octant = 1\n",
    "    if particle.v[1] > v_split[1]\n",
    "        particle.octant += 1\n",
    "    end\n",
    "    if particle.v[2] > v_split[2]\n",
    "        particle.octant += 2\n",
    "    end\n",
    "    if particle.v[3] > v_split[3]\n",
    "        particle.octant += 4\n",
    "    end\n",
    "end"
   ]
  },
  {
   "cell_type": "code",
   "execution_count": 10,
   "metadata": {},
   "outputs": [
    {
     "data": {
      "text/plain": [
       "compute_cell! (generic function with 1 method)"
      ]
     },
     "execution_count": 10,
     "metadata": {},
     "output_type": "execute_result"
    }
   ],
   "source": [
    "function compute_cell!(particle, N_cell, v_lo, v_hi, v_step)\n",
    "    \n",
    "    if ((particle.v[1] > v_lo[1]) && (particle.v[1] < v_hi[1]) &&\n",
    "        (particle.v[2] > v_lo[2]) && (particle.v[2] < v_hi[2]) &&\n",
    "        (particle.v[3] > v_lo[3]) && (particle.v[3] < v_hi[3]))\n",
    "        \n",
    "        i_x = (particle.v[1] - v_lo[1]) / v_step[1]\n",
    "        i_y = (particle.v[2] - v_lo[2]) / v_step[2]\n",
    "        i_z = (particle.v[3] - v_lo[3]) / v_step[3]\n",
    "        \n",
    "        particle.octant = trunc(Int, i_x) * (N_cell^2) + trunc(Int, i_y) * N_cell + trunc(Int, i_z)\n",
    "        \n",
    "        particle.octant += 1\n",
    "    else\n",
    "        particle.octant = N_cell^3 + 1\n",
    "        \n",
    "        if (particle.v[1] > 0.0)\n",
    "            particle.octant += 1\n",
    "        end\n",
    "        if (particle.v[2] > 0.0)\n",
    "            particle.octant += 2\n",
    "        end\n",
    "        if (particle.v[3] > 0.0)\n",
    "            particle.octant += 4\n",
    "        end\n",
    "    end\n",
    "end"
   ]
  },
  {
   "cell_type": "code",
   "execution_count": 11,
   "metadata": {},
   "outputs": [
    {
     "data": {
      "text/plain": [
       "cell_merge! (generic function with 1 method)"
      ]
     },
     "execution_count": 11,
     "metadata": {},
     "output_type": "execute_result"
    }
   ],
   "source": [
    "function cell_merge!(particle_list, N_cell, v_lo, v_hi)\n",
    "    \n",
    "    bin_list = Array{Bin}(undef, N_cell^3+8)\n",
    "    v_step = (v_hi - v_lo) / N_cell\n",
    "#     index_arr = Array{Float64}(undef, 3)\n",
    "    \n",
    "    for i in 1: N_cell^3+8\n",
    "        bin_list[i] = Bin(0.0, 0, [0.0, 0.0, 0.0], [0.0, 0.0, 0.0], [0.0, 0.0, 0.0], [0.0, 0.0, 0.0],\n",
    "                          [0.0, 0.0, 0.0], 0, 0, 0)\n",
    "    end\n",
    "    \n",
    "    for particle in particle_list\n",
    "        compute_cell!(particle, N_cell, v_lo, v_hi, v_step)\n",
    "        \n",
    "        bin_list[particle.octant].w += particle.w\n",
    "        \n",
    "        bin_list[particle.octant].v += particle.w * particle.v\n",
    "    end\n",
    "    \n",
    "    \n",
    "    for bin in bin_list\n",
    "        if (bin.w > 0.0)\n",
    "            bin.v = bin.v / bin.w\n",
    "        end\n",
    "    end\n",
    "    \n",
    "    for particle in particle_list\n",
    "        bin_list[particle.octant].c += particle.w * ((particle.v .- bin_list[particle.octant].v).^2)\n",
    "    end\n",
    "                            \n",
    "    \n",
    "    for bin in bin_list\n",
    "        if (bin.w > 0.0)\n",
    "             bin.c = sqrt.(bin.c / bin.w)\n",
    "        end\n",
    "    end\n",
    "                                    \n",
    "    return bin_list\n",
    "end"
   ]
  },
  {
   "cell_type": "code",
   "execution_count": 12,
   "metadata": {},
   "outputs": [
    {
     "data": {
      "text/plain": [
       "compute_bin_values! (generic function with 1 method)"
      ]
     },
     "execution_count": 12,
     "metadata": {},
     "output_type": "execute_result"
    }
   ],
   "source": [
    "function compute_bin_values!(particle_list, bin)\n",
    "    bin.w = 0.0\n",
    "    bin.nparticles = bin.index_end - bin.index_start + 1\n",
    "    bin.v = [0.0, 0.0, 0.0]\n",
    "    bin.c = [0.0, 0.0, 0.0]\n",
    "    \n",
    "    for i=bin.index_start:bin.index_end\n",
    "        bin.w += particle_list[i].w\n",
    "        bin.v += particle_list[i].w .* particle_list[i].v\n",
    "#         bin.c += particle_list[i].w .* (particle_list[i].v.^2)\n",
    "    end\n",
    "    \n",
    "    if (bin.w > 0.0)\n",
    "        bin.v = bin.v / bin.w\n",
    "    end\n",
    "    \n",
    "    for i=bin.index_start:bin.index_end\n",
    "        bin.c += particle_list[i].w * ((particle_list[i].v .- bin.v).^2)\n",
    "    end\n",
    "    \n",
    "    if (bin.w > 0.0)\n",
    "        bin.c = sqrt.(bin.c / bin.w)\n",
    "        \n",
    "    end\n",
    "end"
   ]
  },
  {
   "cell_type": "code",
   "execution_count": 13,
   "metadata": {},
   "outputs": [
    {
     "data": {
      "text/plain": [
       "compute_bin_weight_and_split! (generic function with 1 method)"
      ]
     },
     "execution_count": 13,
     "metadata": {},
     "output_type": "execute_result"
    }
   ],
   "source": [
    "function compute_bin_weight_and_split!(particle_list, bin, split_type)\n",
    "    # when refining, we just need to keep track of the weight and number of particles in a bin\n",
    "    # also computes the velocities to split the bin along\n",
    "    \n",
    "    bin.w = 0.0\n",
    "    bin.nparticles = bin.index_end - bin.index_start + 1\n",
    "    bin.v = [0.0, 0.0, 0.0]\n",
    "    \n",
    "    for i=bin.index_start:bin.index_end\n",
    "        bin.w += particle_list[i].w\n",
    "        bin.v += particle_list[i].w .* particle_list[i].v\n",
    "    end\n",
    "    \n",
    "    if ((split_type == MiddleSplit) || (bin.w <= 0.0))\n",
    "        bin.v_split = (bin.v_lo + bin.v_hi) / 2\n",
    "    else\n",
    "        bin.v_split = bin.v / bin.w\n",
    "    end\n",
    "end"
   ]
  },
  {
   "cell_type": "code",
   "execution_count": 14,
   "metadata": {},
   "outputs": [
    {
     "data": {
      "text/plain": [
       "refine_bin! (generic function with 1 method)"
      ]
     },
     "execution_count": 14,
     "metadata": {},
     "output_type": "execute_result"
    }
   ],
   "source": [
    "function refine_bin!(particle_list, bins_list, bin_id, n_bins, split_type)\n",
    "    bin_counts = [0, 0, 0, 0, 0, 0, 0, 0]\n",
    "    \n",
    "    for particle in particle_list[bins_list[bin_id].index_start:bins_list[bin_id].index_end]\n",
    "        compute_octant!(particle, bins_list[bin_id].v_split)\n",
    "    end\n",
    "\n",
    "    # a better/faster version would operate on lists of pointers to particles, not particle structs themselves\n",
    "    particles_in_bin = particle_list[bins_list[bin_id].index_start:bins_list[bin_id].index_end]\n",
    "    \n",
    "    for particle in particle_list[bins_list[bin_id].index_start:bins_list[bin_id].index_end]\n",
    "        bin_counts[particle.octant] += 1\n",
    "    end\n",
    "    \n",
    "    bin_counts_copy = bin_counts[:]\n",
    "    \n",
    "    for i=2:8\n",
    "        bin_counts[i] += bin_counts[i-1]\n",
    "    end\n",
    "    \n",
    "    bin_counts_acc_copy = bin_counts[:]\n",
    "    \n",
    "    for particle in particle_list[bins_list[bin_id].index_start:bins_list[bin_id].index_end]\n",
    "        particles_in_bin[bin_counts[particle.octant]] = particle\n",
    "        bin_counts[particle.octant] -= 1\n",
    "    end\n",
    "\n",
    "    particle_list[bins_list[bin_id].index_start:bins_list[bin_id].index_end] = particles_in_bin[:]\n",
    "\n",
    "    new_bins = 0\n",
    "    \n",
    "    for i=1:8\n",
    "        if bin_counts_copy[i] > 0\n",
    "            new_bins += 1\n",
    "            \n",
    "            \n",
    "            # set new bin limits, split along z axis\n",
    "            if i<=4\n",
    "                vz_min = bins_list[bin_id].v_lo[3]\n",
    "                vz_max = bins_list[bin_id].v_split[3]\n",
    "            else\n",
    "                vz_min = bins_list[bin_id].v_split[3]\n",
    "                vz_max = bins_list[bin_id].v_hi[3]\n",
    "            end\n",
    "                \n",
    "            \n",
    "            # set new bin limits, split along y axis\n",
    "            if i%2 == 0\n",
    "                vy_min = bins_list[bin_id].v_split[2]\n",
    "                vy_max = bins_list[bin_id].v_hi[2]\n",
    "            else\n",
    "                # lower vy values\n",
    "                vy_min = bins_list[bin_id].v_lo[2]\n",
    "                vy_max = bins_list[bin_id].v_split[2]\n",
    "            end\n",
    "                    \n",
    "            if ((i==3) || (i==4) || (i==7) || (i==8))\n",
    "                vx_min = bins_list[bin_id].v_split[1]\n",
    "                vx_max = bins_list[bin_id].v_hi[1]\n",
    "            else\n",
    "                vx_min = bins_list[bin_id].v_lo[1]\n",
    "                vx_max = bins_list[bin_id].v_split[1]\n",
    "            end\n",
    "\n",
    "                        \n",
    "            \n",
    "            if i==1\n",
    "                istart = bins_list[bin_id].index_start\n",
    "            else\n",
    "                istart = bin_counts_acc_copy[i-1] + bins_list[bin_id].index_start\n",
    "            end\n",
    "            iend = bin_counts_acc_copy[i] + bins_list[bin_id].index_start - 1\n",
    "            \n",
    "            # split are zeros for now, we will compute them\n",
    "            push!(bins_list, Bin(0.0, 0, [0.0, 0.0, 0.0], [0.0, 0.0, 0.0],\n",
    "                                 [vx_min, vy_min, vz_min], [vx_max, vy_max, vz_max], [0.0, 0.0, 0.0],\n",
    "                                 istart, iend,\n",
    "                                 bins_list[bin_id].level+1))\n",
    "\n",
    "            compute_bin_weight_and_split!(particle_list, bins_list[n_bins+new_bins], split_type)\n",
    "        end\n",
    "    end\n",
    "    \n",
    "    bins_list[bin_id:n_bins + new_bins-1] = bins_list[bin_id+1:n_bins + new_bins]\n",
    "    \n",
    "    resize!(bins_list, n_bins + new_bins - 1)\n",
    "#     bins_list = bins_list[1:3]\n",
    "    # shift bins to left to overwrite bin\n",
    "    return n_bins + new_bins - 1\n",
    "end"
   ]
  },
  {
   "cell_type": "code",
   "execution_count": 15,
   "metadata": {},
   "outputs": [
    {
     "data": {
      "text/plain": [
       "init_bin (generic function with 1 method)"
      ]
     },
     "execution_count": 15,
     "metadata": {},
     "output_type": "execute_result"
    }
   ],
   "source": [
    "function init_bin(particle_list, bin_init, split_type)\n",
    "    # create initial bin and set initial velocity splitting values\n",
    "    \n",
    "    vx_min = 3.1e8\n",
    "    vx_max = -3.1e8\n",
    "    vy_min = 3.1e8\n",
    "    vy_max = -3.1e8\n",
    "    vz_min = 3.1e8\n",
    "    vz_max = -3.1e8\n",
    "    \n",
    "    if bin_init == LightSpeed\n",
    "        print(\"initial bounds set to +- 1.03c\\n\")\n",
    "        \n",
    "    else\n",
    "        print(\"initial bounds set to min-max velocities\\n\")\n",
    "        \n",
    "        for particle in particle_list\n",
    "            if particle.v[1] < vx_min\n",
    "                vx_min = particle.v[1]\n",
    "            elseif particle.v[1] > vx_max\n",
    "                vx_max = particle.v[1]\n",
    "            end\n",
    "\n",
    "            if particle.v[2] < vy_min\n",
    "                vy_min = particle.v[2]\n",
    "            elseif particle.v[2] > vy_max\n",
    "                vy_max = particle.v[2]\n",
    "            end\n",
    "\n",
    "            if particle.v[3] < vz_min\n",
    "                vz_min = particle.v[3]\n",
    "            elseif particle.v[3] > vz_max\n",
    "                vz_max = particle.v[3]\n",
    "            end\n",
    "        end\n",
    "    end\n",
    "    \n",
    "                \n",
    "    # compute stuff!!! \n",
    "    bin = Bin(0.0, 0, [0.0, 0.0, 0.0], [0.0, 0.0, 0.0],\n",
    "              [vx_min, vy_min, vz_min], [vx_max, vy_max, vz_max], [0.0, 0.0, 0.0],\n",
    "              1, length(particle_list), 0)\n",
    "    compute_bin_weight_and_split!(particle_list, bin, split_type)\n",
    "    bin.v_split = [0.0, 0.0, 0.0]\n",
    "    return bin\n",
    "end"
   ]
  },
  {
   "cell_type": "code",
   "execution_count": 16,
   "metadata": {},
   "outputs": [
    {
     "data": {
      "text/plain": [
       "octree_merge! (generic function with 1 method)"
      ]
     },
     "execution_count": 16,
     "metadata": {},
     "output_type": "execute_result"
    }
   ],
   "source": [
    "function octree_merge!(particle_list, bin_list, target_particle_count, max_refinement, aggressiveness, split_type, bin_refinement)\n",
    "    if (length(particle_list) > target_particle_count)\n",
    "        do_refinement = true\n",
    "        target_weight = bin_list[1].w / target_particle_count\n",
    "        \n",
    "        # experiment: split heaviest cell vs split cell based on octree criteria\n",
    "        while (do_refinement)\n",
    "            curr_num_particles = length(bin_list)*2\n",
    "            if (curr_num_particles >= target_particle_count)\n",
    "                do_refinement = false\n",
    "            else\n",
    "                maxweight = 0.0\n",
    "                refine_bin_id = -1\n",
    "                    \n",
    "                if (bin_refinement == Greedy)\n",
    "                # based on paper, attempt to refine bins greedily\n",
    "                    for (i, bin) in enumerate(bin_list)\n",
    "                        # check that we haven't reached maximum recursion level\n",
    "                        if (bin.level < max_refinement)\n",
    "                            if ((bin.nparticles > 2) && (bin.w > aggressiveness * target_weight))\n",
    "                                refine_bin_id = i\n",
    "                                break\n",
    "                            end\n",
    "                        end\n",
    "                    end\n",
    "                elseif (bin_refinement == Heaviest)\n",
    "                # refine heaviest bin first\n",
    "                    for (i, bin) in enumerate(bin_list)\n",
    "                        # check that we haven't reached maximum recursion level\n",
    "                        if ((bin.level < max_refinement) && (bin.w > maxweight))\n",
    "                            if ((bin.nparticles > 2) && (bin.w > aggressiveness * maxweight))\n",
    "                                refine_bin_id = i\n",
    "                                maxweight = bin.w\n",
    "                            end\n",
    "                        end\n",
    "                    end\n",
    "                else\n",
    "                # refine bin with heaviest average weight\n",
    "                    for (i, bin) in enumerate(bin_list)\n",
    "                        # check that we haven't reached maximum recursion level\n",
    "                        if ((bin.level < max_refinement) && (bin.nparticles > 2) && (bin.w / bin.nparticles > maxweight))\n",
    "                            if ((bin.nparticles > 2) && (bin.w > aggressiveness * maxweight))\n",
    "                                refine_bin_id = i\n",
    "                                maxweight = bin.w / bin.nparticles\n",
    "                            end\n",
    "                        end\n",
    "                    end\n",
    "                end\n",
    "                if (refine_bin_id == -1)\n",
    "                    print(\"No bins found to refine\")\n",
    "                    do_refinement = false\n",
    "                else\n",
    "                    refine_bin!(particle_list, bin_list, refine_bin_id, length(bin_list), split_type)\n",
    "                end        \n",
    "            end\n",
    "        end\n",
    "        # compute new particle list\n",
    "    end\n",
    "        \n",
    "    for bin in bin_list\n",
    "        compute_bin_values!(particle_list, bin)\n",
    "    end\n",
    "end"
   ]
  },
  {
   "cell_type": "code",
   "execution_count": 17,
   "metadata": {},
   "outputs": [
    {
     "data": {
      "text/plain": [
       "create_new_particles (generic function with 1 method)"
      ]
     },
     "execution_count": 17,
     "metadata": {},
     "output_type": "execute_result"
    }
   ],
   "source": [
    "function create_new_particles(bin_list)\n",
    "    new_particles = []\n",
    "    \n",
    "#     new_particles = []\n",
    "    for bin in bin_list\n",
    "        if (bin.w > 0)\n",
    "            v_sign = sign.(0.5 .- rand(3))\n",
    "            \n",
    "            push!(new_particles, Particle(bin.w / 2, (bin.v .+ (v_sign .* bin.c)), 1))\n",
    "            push!(new_particles, Particle(bin.w / 2, (bin.v .- (v_sign .* bin.c)), 1))\n",
    "        end\n",
    "    end\n",
    "    \n",
    "    return new_particles\n",
    "end"
   ]
  },
  {
   "cell_type": "code",
   "execution_count": 18,
   "metadata": {},
   "outputs": [
    {
     "data": {
      "text/plain": [
       "compute_stats (generic function with 1 method)"
      ]
     },
     "execution_count": 18,
     "metadata": {},
     "output_type": "execute_result"
    }
   ],
   "source": [
    "function compute_stats(particle_list, moment_nos)\n",
    "    ndens = 0.0\n",
    "    vel = [0.0, 0.0, 0.0]\n",
    "    \n",
    "    for particle in particle_list\n",
    "        ndens += particle.w\n",
    "        vel += particle.w .* particle.v\n",
    "    end\n",
    "    \n",
    "    vel = vel ./ ndens\n",
    "    \n",
    "    print(\"number density: \", ndens, \"\\n\")\n",
    "    print(\"velocity: \", vel, \"\\n\")\n",
    "    \n",
    "    moments = fill(0.0, (length(moment_nos), ))\n",
    "#     moments = Array{Float64}(0.0, length(moment_nos))\n",
    "    \n",
    "    energy = 0.0\n",
    "     \n",
    "    for particle in particle_list\n",
    "        \n",
    "        energy += particle.w * sum((particle.v .- vel) .^ 2)\n",
    "    end\n",
    "    println(\"Energy: \", energy / ndens)\n",
    "    \n",
    "    for particle in particle_list\n",
    "        \n",
    "        for (i, moment_no) in enumerate(moment_nos)\n",
    "            moments[i] += particle.w * sum((particle.v .- vel) .^ moment_no)\n",
    "        end\n",
    "    end\n",
    "    \n",
    "    for (i, moment_no) in enumerate(moment_nos)\n",
    "        print(\"moment no.\", moment_no, \": \", moments[i] / ndens, \"\\n\")\n",
    "    end\n",
    "end"
   ]
  },
  {
   "cell_type": "code",
   "execution_count": 19,
   "metadata": {},
   "outputs": [
    {
     "data": {
      "text/plain": [
       "compute_bias! (generic function with 1 method)"
      ]
     },
     "execution_count": 19,
     "metadata": {},
     "output_type": "execute_result"
    }
   ],
   "source": [
    "function compute_bias!(particle_list, particle_list_new, moment_nos, bias_array, n_run)\n",
    "    ndens = 0.0\n",
    "    vel = [0.0, 0.0, 0.0]\n",
    "    \n",
    "    for particle in particle_list\n",
    "        ndens += particle.w\n",
    "        vel += particle.w .* particle.v\n",
    "    end\n",
    "    \n",
    "    vel = vel ./ ndens\n",
    "    \n",
    "    moments = fill(0.0, (length(moment_nos), ))\n",
    "    moments_new = fill(0.0, (length(moment_nos), ))\n",
    "    \n",
    "    for particle in particle_list\n",
    "        for (i, moment_no) in enumerate(moment_nos)\n",
    "            moments[i] += particle.w * sum((particle.v .- vel) .^ moment_no)\n",
    "        end\n",
    "    end\n",
    "    \n",
    "    for particle in particle_list_new\n",
    "        for (i, moment_no) in enumerate(moment_nos)\n",
    "            moments_new[i] += particle.w * sum((particle.v .- vel) .^ moment_no)\n",
    "        end\n",
    "    end\n",
    "    \n",
    "    for (i, moment_no) in enumerate(moment_nos)\n",
    "        bias_array[n_run, i] += (moments_new[i] - moments[i]) / moments[i]\n",
    "    end\n",
    "end"
   ]
  },
  {
   "cell_type": "code",
   "execution_count": 20,
   "metadata": {},
   "outputs": [
    {
     "data": {
      "text/plain": [
       "create_particles (generic function with 1 method)"
      ]
     },
     "execution_count": 20,
     "metadata": {},
     "output_type": "execute_result"
    }
   ],
   "source": [
    "function create_particles(mass, T, n_particles)\n",
    "    particle_list = Array{Particle}(undef, n_particles)\n",
    "    \n",
    "    for i=1:n_particles\n",
    "        particle_list[i] = Particle(1.0, maxwellian(T, ar_mass), 0)\n",
    "    end\n",
    "    return particle_list\n",
    "end"
   ]
  },
  {
   "cell_type": "code",
   "execution_count": 21,
   "metadata": {},
   "outputs": [
    {
     "data": {
      "text/plain": [
       "create_particles_bimodal (generic function with 1 method)"
      ]
     },
     "execution_count": 21,
     "metadata": {},
     "output_type": "execute_result"
    }
   ],
   "source": [
    "function create_particles_bimodal(mass, T, n_particles, offset)\n",
    "    particle_list = Array{Particle}(undef, n_particles * 2)\n",
    "    \n",
    "    for i=1:n_particles\n",
    "        particle_list[i] = Particle(1.0, maxwellian(T, ar_mass) + offset, 0)\n",
    "    end\n",
    "    for i=n_particles+1:n_particles*2\n",
    "        particle_list[i] = Particle(1.0, maxwellian(T, ar_mass) - offset, 0)\n",
    "    end\n",
    "    return particle_list\n",
    "end"
   ]
  },
  {
   "cell_type": "code",
   "execution_count": 22,
   "metadata": {},
   "outputs": [
    {
     "data": {
      "text/plain": [
       "5.5"
      ]
     },
     "execution_count": 22,
     "metadata": {},
     "output_type": "execute_result"
    }
   ],
   "source": [
    "ar_mass = 6.633521356992e-26\n",
    "T = 300.0\n",
    "n_particles = 100000\n",
    "\n",
    "n_runs = 10\n",
    "moment_nos = [2, 4,6,8,10]\n",
    "\n",
    "target_np = 1500\n",
    "aggr = 1.0\n",
    "\n",
    "inittype = MinMaxVel\n",
    "# inittype = LightSpeed\n",
    "splittype = MiddleSplit\n",
    "# splittype = MeanVelSplit\n",
    "refinement = Greedy\n",
    "# refinement = Heaviest\n",
    "refinment = BiggestAvg\n",
    "\n",
    "# inittype = MinMaxVel\n",
    "# splittype = MeanVelSplit\n",
    "# refinement = Heaviest\n",
    "\n",
    "v_ref = sqrt(2 * constants.k * T / ar_mass)\n",
    "N_cell = 16\n",
    "max_vel_to_v_ref = 5.5"
   ]
  },
  {
   "cell_type": "code",
   "execution_count": 23,
   "metadata": {},
   "outputs": [
    {
     "name": "stdout",
     "output_type": "stream",
     "text": [
      "  0.583207 seconds (2.17 M allocations: 162.436 MiB, 22.62% gc time)\n",
      "post-merge:1454\n",
      "  0.284187 seconds (1.23 M allocations: 115.751 MiB, 37.35% gc time)\n",
      "post-merge:1478\n",
      "  0.350881 seconds (1.23 M allocations: 115.748 MiB, 43.51% gc time)\n",
      "post-merge:1460\n",
      "  0.245179 seconds (1.23 M allocations: 115.744 MiB, 22.66% gc time)\n",
      "post-merge:1432\n",
      "  0.223885 seconds (1.23 M allocations: 115.747 MiB, 24.77% gc time)\n",
      "post-merge:1454\n",
      "  0.222957 seconds (1.23 M allocations: 115.745 MiB, 22.99% gc time)\n",
      "post-merge:1440\n",
      "  0.352024 seconds (1.23 M allocations: 115.747 MiB, 48.28% gc time)\n",
      "post-merge:1450\n",
      "  0.318365 seconds (1.23 M allocations: 115.746 MiB, 25.39% gc time)\n",
      "post-merge:1444\n",
      "  0.235804 seconds (1.23 M allocations: 115.741 MiB, 25.76% gc time)\n",
      "post-merge:1416\n",
      "  0.240190 seconds (1.23 M allocations: 115.748 MiB, 22.06% gc time)\n",
      "post-merge:1460\n",
      "1448.8\n"
     ]
    }
   ],
   "source": [
    "bias_arr = fill(0.0, (n_runs, length(moment_nos)));\n",
    "\n",
    "avg_np = 0\n",
    "\n",
    "for run=1:n_runs\n",
    "    \n",
    "#     particle_list = create_particles(ar_mass, T, n_particles);\n",
    "    particle_list = create_particles_bimodal(ar_mass, T, n_particles, [2 * v_ref, 0.0, 0.0]);\n",
    "    @time binlist_test = cell_merge!(particle_list, N_cell,\n",
    "                                     [-v_ref * max_vel_to_v_ref, -v_ref * max_vel_to_v_ref, -v_ref * max_vel_to_v_ref],\n",
    "                                     [v_ref * max_vel_to_v_ref, v_ref * max_vel_to_v_ref, v_ref * max_vel_to_v_ref]);\n",
    "    \n",
    "    newparticles = create_new_particles(binlist_test);\n",
    "    avg_np += length(newparticles)\n",
    "    println(\"post-merge:\", length(newparticles))\n",
    "    compute_bias!(particle_list, newparticles, moment_nos, bias_arr, run);\n",
    "end\n",
    "\n",
    "println(avg_np / n_runs)"
   ]
  },
  {
   "cell_type": "code",
   "execution_count": 137,
   "metadata": {},
   "outputs": [
    {
     "data": {
      "text/plain": [
       "1×4 Array{Float64,2}:\n",
       " -0.000660577  -0.00224959  -0.00584906  -0.0115643"
      ]
     },
     "execution_count": 137,
     "metadata": {},
     "output_type": "execute_result"
    }
   ],
   "source": [
    "mean(bias_arr, dims=(1))"
   ]
  },
  {
   "cell_type": "code",
   "execution_count": 134,
   "metadata": {},
   "outputs": [
    {
     "data": {
      "text/plain": [
       "1×4 Array{Float64,2}:\n",
       " 3.76183e-5  0.000175562  0.000528134  0.00125126"
      ]
     },
     "execution_count": 134,
     "metadata": {},
     "output_type": "execute_result"
    }
   ],
   "source": [
    "std(bias_arr, dims=(1))"
   ]
  },
  {
   "cell_type": "code",
   "execution_count": 147,
   "metadata": {},
   "outputs": [
    {
     "name": "stdout",
     "output_type": "stream",
     "text": [
      "initial bounds set to min-max velocities\n",
      "No bins found to refine  0.510436 seconds (3.20 M allocations: 364.390 MiB, 12.07% gc time)\n",
      "post-merge:1200\n",
      "initial bounds set to min-max velocities\n",
      "No bins found to refine  0.502298 seconds (3.20 M allocations: 364.246 MiB, 14.92% gc time)\n",
      "post-merge:1182\n",
      "initial bounds set to min-max velocities\n",
      "No bins found to refine  0.557702 seconds (3.20 M allocations: 364.347 MiB, 26.61% gc time)\n",
      "post-merge:1194\n",
      "initial bounds set to min-max velocities\n",
      "No bins found to refine  0.700425 seconds (3.20 M allocations: 363.972 MiB, 16.24% gc time)\n",
      "post-merge:1184\n",
      "initial bounds set to min-max velocities\n",
      "No bins found to refine  0.589259 seconds (3.20 M allocations: 364.244 MiB, 11.62% gc time)\n",
      "post-merge:1226\n",
      "initial bounds set to min-max velocities\n",
      "No bins found to refine  0.611914 seconds (3.20 M allocations: 364.211 MiB, 14.29% gc time)\n",
      "post-merge:1182\n",
      "initial bounds set to min-max velocities\n",
      "No bins found to refine  0.762455 seconds (3.20 M allocations: 364.279 MiB, 26.49% gc time)\n",
      "post-merge:1238\n",
      "initial bounds set to min-max velocities\n",
      "No bins found to refine  0.734198 seconds (3.20 M allocations: 364.307 MiB, 25.92% gc time)\n",
      "post-merge:1222\n",
      "initial bounds set to min-max velocities\n",
      "No bins found to refine  0.743225 seconds (3.20 M allocations: 364.299 MiB, 16.99% gc time)\n",
      "post-merge:1164\n",
      "initial bounds set to min-max velocities\n",
      "No bins found to refine  1.020378 seconds (3.20 M allocations: 363.848 MiB, 7.98% gc time)\n",
      "post-merge:1168\n",
      "1196.0\n"
     ]
    }
   ],
   "source": [
    "bias_arr = fill(0.0, (n_runs, length(moment_nos)));\n",
    "avg_np = 0\n",
    "for run=1:n_runs\n",
    "#     \n",
    "#     particle_list = create_particles(ar_mass, T, n_particles);\n",
    "    particle_list = create_particles_bimodal(ar_mass, T, n_particles, [2 * v_ref, 0.0, 0.0]);\n",
    "    binlist_test = [init_bin(particle_list, inittype, splittype)];\n",
    "    @time octree_merge!(particle_list, binlist_test, target_np, 5, aggr, splittype, refinement);\n",
    "    newparticles = create_new_particles(binlist_test);\n",
    "    println(\"post-merge:\", length(newparticles))\n",
    "    avg_np += length(newparticles)\n",
    "    compute_bias!(particle_list, newparticles, moment_nos, bias_arr, run);\n",
    "    \n",
    "end\n",
    "\n",
    "println(avg_np / n_runs)"
   ]
  },
  {
   "cell_type": "code",
   "execution_count": 148,
   "metadata": {},
   "outputs": [
    {
     "data": {
      "text/plain": [
       "1×4 Array{Float64,2}:\n",
       " -0.0156434  -0.0861325  -0.219666  -0.382473"
      ]
     },
     "execution_count": 148,
     "metadata": {},
     "output_type": "execute_result"
    }
   ],
   "source": [
    "mean(bias_arr, dims=(1))"
   ]
  },
  {
   "cell_type": "code",
   "execution_count": 149,
   "metadata": {},
   "outputs": [
    {
     "data": {
      "text/plain": [
       "1×4 Array{Float64,2}:\n",
       " 0.000479224  0.00192157  0.00545399  0.0102239"
      ]
     },
     "execution_count": 149,
     "metadata": {},
     "output_type": "execute_result"
    }
   ],
   "source": [
    "std(bias_arr, dims=(1))"
   ]
  },
  {
   "cell_type": "code",
   "execution_count": null,
   "metadata": {},
   "outputs": [],
   "source": [
    "# middle split:  -0.12505  -0.27281  -0.377198  -0.465822\n",
    "# meanvel split:  -0.0913615  -0.338818  -0.61502  -0.81325\n",
    "# meanvel + heaviest:   -0.106529  -0.379313  -0.661266  -0.847062\n",
    "# middle split + heaviest:  -0.130482  -0.293857  -0.427118  -0.556371"
   ]
  }
 ],
 "metadata": {
  "kernelspec": {
   "display_name": "Julia 1.0.2",
   "language": "julia",
   "name": "julia-1.0"
  },
  "language_info": {
   "file_extension": ".jl",
   "mimetype": "application/julia",
   "name": "julia",
   "version": "1.0.2"
  }
 },
 "nbformat": 4,
 "nbformat_minor": 4
}
